{
 "cells": [
  {
   "cell_type": "markdown",
   "metadata": {},
   "source": [
    "<div style='text-align: center;'>\n",
    "<img src=\"images/maths6000-banner.png\" alt=\"image\" width=\"80%\" height=\"auto\">\n",
    "</div>"
   ]
  },
  {
   "cell_type": "markdown",
   "metadata": {},
   "source": [
    "# Running Notebooks on VSCode (inside Anaconda)\n",
    "\n",
    "- From inside Anaconda Navigator, select to launch VSCode. \n",
    "- Open the directory you want to work in.\n",
    "- Open a new file (_keyboard shortcut:_ `Ctrl windows Alt N`)\n",
    "- Select Juptyer Notebook\n",
    "<div style='text-align: left;'>\n",
    "<img src=\"images/ana-06.png\" alt=\"image\" width=\"30%\" height=\"auto\">\n",
    "</div>"
   ]
  },
  {
   "cell_type": "markdown",
   "metadata": {},
   "source": [
    "Enter some code into the first cell, for example it could just be a print statement\n",
    "~~~\n",
    "print(\"Hello World\")\n",
    "~~~\n",
    "<div style='text-align: left;'>\n",
    "<img src=\"images/ana-14.png\" alt=\"image\" width=\"40%\" height=\"auto\">\n",
    "</div>"
   ]
  },
  {
   "cell_type": "markdown",
   "metadata": {},
   "source": [
    "If you try and run this code it will likely fail. You need to setup what is called a \"Kernel\". Click the play button on the side of the cell and you will be given the option to browse market place for extensions.\n",
    "\n",
    "<div style='text-align: left;'>\n",
    "<img src=\"images/ana-15.png\" alt=\"image\" width=\"40%\" height=\"auto\">\n",
    "</div>"
   ]
  },
  {
   "cell_type": "markdown",
   "metadata": {},
   "source": [
    "Install the jupyter kernel extension.\n",
    "<div style='text-align: left;'>\n",
    "<img src=\"images/ana-16.png\" alt=\"image\" width=\"40%\" height=\"auto\">\n",
    "</div>"
   ]
  },
  {
   "cell_type": "markdown",
   "metadata": {},
   "source": [
    "Now when you get promted to select a kernel, the `base` kernel from Anaconda should appear as the recommended option. Select this and continue.\n",
    "<div style='text-align: left;'>\n",
    "<img src=\"images/ana-17.png\" alt=\"image\" width=\"40%\" height=\"auto\">\n",
    "</div>"
   ]
  },
  {
   "cell_type": "markdown",
   "metadata": {},
   "source": [
    "Next time you run the cell by clicking on the play button on the left hand side, the cell should generate some output.\n",
    "<div style='text-align: left;'>\n",
    "<img src=\"images/ana-18.png\" alt=\"image\" width=\"20%\" height=\"auto\">\n",
    "</div>"
   ]
  }
 ],
 "metadata": {
  "kernelspec": {
   "display_name": "Python 3",
   "language": "python",
   "name": "python3"
  },
  "language_info": {
   "name": "python",
   "version": "3.11.7"
  }
 },
 "nbformat": 4,
 "nbformat_minor": 2
}
