{
 "cells": [
  {
   "cell_type": "markdown",
   "id": "ed9fcebd-5d0d-4d60-b768-4c2ba11603f3",
   "metadata": {},
   "source": [
    "<div style='text-align: right;'>\n",
    "<img src=\"../images/math60082-banner.png\" alt=\"image\" width=\"80%\" height=\"auto\">\n",
    "</div>"
   ]
  },
  {
   "cell_type": "markdown",
   "id": "cb68fb26-8f7e-4bfd-a52a-e26eea2c3033",
   "metadata": {},
   "source": [
    "# Solutions to Coding Workbook 1\n",
    "\n",
    "## Dr P. V. Johnson\n",
    "## Department of Mathematics\n"
   ]
  },
  {
   "cell_type": "markdown",
   "id": "445c2265-1ef6-4be4-8860-562c248ef3b1",
   "metadata": {},
   "source": [
    "# Tasks\n",
    "\n",
    "1. Try doing some simple calculations with integers and doubles. Work out\n",
    "$$\n",
    "\\frac{a}{x} + bx \n",
    "$$\n",
    "$$\n",
    "ax^2 + bx + c\n",
    "$$\n",
    "$$\n",
    "\\frac{a + b*x}{c^4}\n",
    "$$\n",
    "where\n",
    "$$\n",
    "a = 1.17745, \\quad b=3, \\quad c=-1004.1, \\text{ and } x = 24.539~.\n",
    "$$\n",
    "Use brackets to order the calculations. Try assigning the variables as `int`, `float` or `str` -- what happens?"
   ]
  },
  {
   "cell_type": "code",
   "execution_count": 3,
   "id": "52a75499",
   "metadata": {},
   "outputs": [
    {
     "name": "stdout",
     "output_type": "stream",
     "text": [
      "73.6649828028852\n",
      "-221.46673964854995\n",
      "7.358029160378561e-11\n"
     ]
    }
   ],
   "source": [
    "a=1.17745\n",
    "b=3\n",
    "c=-1004.1\n",
    "x=24.539\n",
    "print( a/x + b*x )\n",
    "print( a*x*x + b*x + c)\n",
    "print( (a + b*x)/c/c/c/c )"
   ]
  },
  {
   "cell_type": "markdown",
   "id": "926d5fc0-8111-48c2-8d45-9fa6bf55c3d3",
   "metadata": {},
   "source": [
    "2. Now import `math` library in your program (or workbook) by including the line `import math` at the top of your code. Calculate:-\n",
    "$$\n",
    "\\frac{\\sin(ax)}{x} \n",
    "$$\n",
    "$$\n",
    "\\sum_{i=1}^5 (a + bx)^i\n",
    "$$\n",
    "$$\n",
    "\\sqrt{\\left|\\sin\\left(e^{x^a}\\right)\\right|}\n",
    "$$\n",
    "where\n",
    "$$\n",
    "a = 1.17745, \\quad b=3, \\quad c=-1004.1, \\text{ and } x = 24.539~.\n",
    "$$\n",
    "The functions you will need are `math.sqrt`, `math.sin`, `math.cos`, `math.exp` and `math.pow`. Look them up if required. What happens to the result of the top expression if $x=0$?. "
   ]
  },
  {
   "cell_type": "code",
   "execution_count": 4,
   "id": "5bf2a8ff",
   "metadata": {},
   "outputs": [
    {
     "name": "stdout",
     "output_type": "stream",
     "text": [
      "-0.023648556862426184\n",
      "2372425247.968323\n",
      "0.8279722325671205\n"
     ]
    }
   ],
   "source": [
    "from math import sqrt,sin,cos,exp,pow\n",
    "print( sin(a*x)/x)\n",
    "value = pow(a+b*x,1) + pow(a+b*x,2) + pow(a+b*x,3) + pow(a+b*x,4) + pow(a+b*x,5) \n",
    "print( value )\n",
    "print( sqrt( abs( sin( exp( pow( x,a ) ) ) ) ) )"
   ]
  },
  {
   "cell_type": "markdown",
   "id": "73d5d4b9-2e3f-4675-95fc-2eb1a79f2dd3",
   "metadata": {},
   "source": [
    "3. Consider the sum `a + b - a`. Print out the result of this calculation for the following values \n",
    "    1. $a=10$ and $b=0.1$\n",
    "    2. $a=10000000$ and $b=0.0000001$\n",
    "    3. $a=100000000000$ and $b=0.00000000001$\n",
    "Are the results what you expected? Can you explain why they are or aren't?"
   ]
  },
  {
   "cell_type": "code",
   "execution_count": 5,
   "id": "e347af8a",
   "metadata": {},
   "outputs": [
    {
     "name": "stdout",
     "output_type": "stream",
     "text": [
      "0.09999999999999964\n"
     ]
    }
   ],
   "source": [
    "a=10.\n",
    "b=0.1\n",
    "print( a + b - a )"
   ]
  },
  {
   "cell_type": "markdown",
   "id": "c2a4a2d7",
   "metadata": {},
   "source": [
    "Note there is a small error introduced here, we are expecting that \n",
    "$$\n",
    "10 + 0.1 - 10 = 0.1\n",
    "$$\n",
    "but the result is 0.99...964 Now try with bigger and smaller values of $a$ and $b$ and the results get worse. The syntax `<float>e<int>` is a quick way to write big numbers, it means take the number before the `e` and multiply it by ten to the power of the integer that comes after. For example\n",
    "$$\n",
    "\\text{1.0e7} = 1.0 \\times 10^7 = 10000000\n",
    "$$\n",
    "so we can use `1.0e7` rather than `10000000`."
   ]
  },
  {
   "cell_type": "code",
   "execution_count": 6,
   "id": "f5a8174c",
   "metadata": {},
   "outputs": [
    {
     "name": "stdout",
     "output_type": "stream",
     "text": [
      "1.0058283805847168e-07\n"
     ]
    }
   ],
   "source": [
    "a=1.0e7\n",
    "b=1.0e-7\n",
    "print( a + b - a )"
   ]
  },
  {
   "cell_type": "markdown",
   "id": "de0dbb4b",
   "metadata": {},
   "source": [
    "Now the error is relatively much bigger, around 0.5% of the expected value $10^{-7}$. The bigger the numbers, the worse it gets:"
   ]
  },
  {
   "cell_type": "code",
   "execution_count": 7,
   "id": "7ed4f249",
   "metadata": {},
   "outputs": [
    {
     "name": "stdout",
     "output_type": "stream",
     "text": [
      "0.0\n"
     ]
    }
   ],
   "source": [
    "a=1.0e10\n",
    "b=1.0e-10\n",
    "print( a + b - a )"
   ]
  },
  {
   "cell_type": "markdown",
   "id": "10780efb",
   "metadata": {},
   "source": [
    "Now we get zero -- or 100% relative error!"
   ]
  },
  {
   "cell_type": "markdown",
   "id": "a6d49713",
   "metadata": {},
   "source": [
    "4. A student is asked to write a code where the user is promted to input the current year, and it then calculates how many years since Manchester United last won the Premier League. Fix any errors in the student's code which can be found [here (click to download)](https://raw.githubusercontent.com/pjohno/MATH60082-python/main/examples/MATH60082-support-example-3.py)."
   ]
  },
  {
   "cell_type": "markdown",
   "id": "6004ff77",
   "metadata": {},
   "source": [
    "After fixing the coding problem, the last thing we might be unsure of is what the actual question means. Does it mean the last day of the season, or the actual date they won it? Depending on which one it is you would get a different answer. I suppose this teaches us that you will often have to clarify the exact problem with the person who sets the problem (i.e. the lecturer in a course unit or the trader if you are a quant in the bank). Don't be afraid to ask questions! My solution using the actual date they won the league below:-"
   ]
  },
  {
   "cell_type": "code",
   "execution_count": 8,
   "id": "cdbf67cf",
   "metadata": {},
   "outputs": [
    {
     "name": "stdout",
     "output_type": "stream",
     "text": [
      "On 2024-01-31, it will be 10.78 years since Manchester united last won the Premier League.\n"
     ]
    }
   ],
   "source": [
    "# libraries and methods\n",
    "from datetime import timedelta,date\n",
    "\n",
    "# declare variables and assign values\n",
    "dateLastWon = date(2013,4,22)               # actually won the league on 22nd April 2013\n",
    "day = int(input(\"Input day of month (1-31)\"))    # input day of month, must be integers, and should really error check values\n",
    "month = int(input(\"Input month (1-12)\"))         # input month, must be integers, and should really error check values\n",
    "year = int(input(\"Input year \"))                 # input year, must be integers, and should really error check values\n",
    "dateCurrent = date(year,month,day)          # create current date\n",
    "\n",
    "# calculate the number of years\n",
    "yearsSinceWon = (dateCurrent-dateLastWon).days # this is number of days, divide by \n",
    "yearsSinceWon = yearsSinceWon / 365.\n",
    "\n",
    "# output the results\n",
    "print(\"On {}, it will be {:.2f} years since Manchester united last won the Premier League.\".format(dateCurrent,yearsSinceWon))"
   ]
  }
 ],
 "metadata": {
  "kernelspec": {
   "display_name": "Python 3 (ipykernel)",
   "language": "python",
   "name": "python3"
  },
  "language_info": {
   "codemirror_mode": {
    "name": "ipython",
    "version": 3
   },
   "file_extension": ".py",
   "mimetype": "text/x-python",
   "name": "python",
   "nbconvert_exporter": "python",
   "pygments_lexer": "ipython3",
   "version": "3.11.7"
  }
 },
 "nbformat": 4,
 "nbformat_minor": 5
}
