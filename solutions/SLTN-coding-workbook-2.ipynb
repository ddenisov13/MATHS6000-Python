{
 "cells": [
  {
   "cell_type": "markdown",
   "metadata": {},
   "source": [
    "<div style='text-align: center;'>\n",
    "<img src=\"../images/math60082-banner.png\" alt=\"image\" width=\"80%\" height=\"auto\">\n",
    "</div>"
   ]
  },
  {
   "cell_type": "markdown",
   "metadata": {},
   "source": [
    "# Solutions to Coding Workbook 2\n",
    "\n",
    "## Dr P. V. Johnson\n",
    "## Department of Mathematics\n"
   ]
  },
  {
   "cell_type": "markdown",
   "metadata": {},
   "source": [
    "# Tasks\n",
    "\n",
    "1. Write a function that takes the arguments $a$, $b$ and $c$, computes and then displays the roots\n",
    "of the quadratic equation\n",
    "$$\n",
    "ax^2 + bx + c =0\n",
    "$$\n",
    "You will need to identify whether the roots are real or complex. If the roots are complex,\n",
    "display the results in the form $A + Bi$."
   ]
  },
  {
   "cell_type": "code",
   "execution_count": 1,
   "metadata": {},
   "outputs": [
    {
     "name": "stdout",
     "output_type": "stream",
     "text": [
      "Roots are complex\n",
      "x+ =  -1.0  +  1.7320508075688772 i\n",
      "x- =  -1.0  -  1.7320508075688772 i\n"
     ]
    }
   ],
   "source": [
    "from math import sqrt\n",
    "a=1\n",
    "b=2\n",
    "c=4\n",
    "# calculate the determinant\n",
    "dtmnnt = b*b - 4*a*c \n",
    "# if dtmnnt<0 then roots are complex\n",
    "if dtmnnt < 0.0:\n",
    "    print(\"Roots are complex\")\n",
    "    print(\"x+ = \",-b/a/2.,\" + \",sqrt(-dtmnnt)/a/2.0,\"i\")   \n",
    "    print(\"x- = \",-b/a/2.,\" - \",sqrt(-dtmnnt)/a/2.0,\"i\")\n",
    "elif dtmnnt == 0.0: # compare if something is equal use ==\n",
    "    print(\"Single root\")\n",
    "    print(\"x= \",-b/2.0/a)\n",
    "else:\n",
    "    print(\"Real roots\")\n",
    "    print(\"x+ = \",-b/a/2.+sqrt(dtmnnt)/a/2.0)   \n",
    "    print(\"x- = \",-b/a/2.-sqrt(dtmnnt)/a/2.0)"
   ]
  },
  {
   "cell_type": "markdown",
   "metadata": {},
   "source": [
    "2. Write a loop to calculate and output the first $n$ fibonacci numbers."
   ]
  },
  {
   "cell_type": "code",
   "execution_count": 2,
   "metadata": {},
   "outputs": [
    {
     "name": "stdout",
     "output_type": "stream",
     "text": [
      "fib_0:= 0\n",
      "fib_1:= 1\n",
      "fib_ 2 := 1\n",
      "fib_ 3 := 2\n",
      "fib_ 4 := 3\n",
      "fib_ 5 := 5\n",
      "fib_ 6 := 8\n",
      "fib_ 7 := 13\n",
      "fib_ 8 := 21\n",
      "fib_ 9 := 34\n",
      "fib_ 10 := 55\n"
     ]
    }
   ],
   "source": [
    "n=10 # n is an integer\n",
    "fibOld = 0\n",
    "print( \"fib_0:=\",fibOld)\n",
    "fibCurr = 1\n",
    "print( \"fib_1:=\",fibCurr)\n",
    "for i in range(1,n): # count in integers\n",
    "    fibNext = fibCurr + fibOld\n",
    "    print( \"fib_\",i+1,\":=\",fibNext)\n",
    "    fibOld = fibCurr\n",
    "    fibCurr = fibNext"
   ]
  },
  {
   "cell_type": "markdown",
   "metadata": {},
   "source": [
    "If we re-run this code with a huge number, say $n=10000$, the result is an absolutely **huge** integer value. It appears that python extends the memory allocated to an integer as it grows, so there is no upper limit on the size of an `int` except for the physical limitations of your machine (the amount of RAM)."
   ]
  },
  {
   "cell_type": "code",
   "execution_count": 3,
   "metadata": {},
   "outputs": [
    {
     "name": "stdout",
     "output_type": "stream",
     "text": [
      "fib_ 10000 := 33644764876431783266621612005107543310302148460680063906564769974680081442166662368155595513633734025582065332680836159373734790483865268263040892463056431887354544369559827491606602099884183933864652731300088830269235673613135117579297437854413752130520504347701602264758318906527890855154366159582987279682987510631200575428783453215515103870818298969791613127856265033195487140214287532698187962046936097879900350962302291026368131493195275630227837628441540360584402572114334961180023091208287046088923962328835461505776583271252546093591128203925285393434620904245248929403901706233888991085841065183173360437470737908552631764325733993712871937587746897479926305837065742830161637408969178426378624212835258112820516370298089332099905707920064367426202389783111470054074998459250360633560933883831923386783056136435351892133279732908133732642652633989763922723407882928177953580570993691049175470808931841056146322338217465637321248226383092103297701648054726243842374862411453093812206564914032751086643394517512161526545361333111314042436854805106765843493523836959653428071768775328348234345557366719731392746273629108210679280784718035329131176778924659089938635459327894523777674406192240337638674004021330343297496902028328145933418826817683893072003634795623117103101291953169794607632737589253530772552375943788434504067715555779056450443016640119462580972216729758615026968443146952034614932291105970676243268515992834709891284706740862008587135016260312071903172086094081298321581077282076353186624611278245537208532365305775956430072517744315051539600905168603220349163222640885248852433158051534849622434848299380905070483482449327453732624567755879089187190803662058009594743150052402532709746995318770724376825907419939632265984147498193609285223945039707165443156421328157688908058783183404917434556270520223564846495196112460268313970975069382648706613264507665074611512677522748621598642530711298441182622661057163515069260029861704945425047491378115154139941550671256271197133252763631939606902895650288268608362241082050562430701794976171121233066073310059947366875\n"
     ]
    }
   ],
   "source": [
    "n=10000 # n is an integer\n",
    "fibOld = 0\n",
    "fibCurr = 1\n",
    "for i in range(1,n): # count in integers\n",
    "    fibNext = fibCurr + fibOld\n",
    "    fibOld = fibCurr\n",
    "    fibCurr = fibNext\n",
    "print( \"fib_\",n,\":=\",fibNext)"
   ]
  },
  {
   "cell_type": "markdown",
   "metadata": {},
   "source": [
    "However, this flexibility **will** come at a cost. If an integer stored in one byte of memory takes one CPU operation to add, an integer stored in two bytes will take _at least_ two operations to add together. So the computation cost of the code above will grow faster that $O(n)$. However, forcing the integers to floats will bound the cost to $O(n)$, at the expense of _only_ 16 digits of accuracy. Given it is unlikely that higher precision will be required, the `float` version would be preferred in most cases."
   ]
  },
  {
   "cell_type": "markdown",
   "metadata": {},
   "source": [
    "3. Write a loop to calculate and output the binomial coefficients for $0 \\leq k \\leq n$:\n",
    "$$\n",
    "\t\\left(\\begin{array}{c} n\\\\k \\end{array}\\right)\n",
    "$$"
   ]
  },
  {
   "cell_type": "code",
   "execution_count": 4,
   "metadata": {},
   "outputs": [
    {
     "name": "stdout",
     "output_type": "stream",
     "text": [
      "126.0\n"
     ]
    }
   ],
   "source": [
    "n = 9\n",
    "k = 4\n",
    "\n",
    "n_choose_k = 1.0;\n",
    "for i in range(1,k+1):\n",
    "    n_choose_k = n_choose_k * (n+1-i) / i\n",
    "print( n_choose_k )"
   ]
  },
  {
   "cell_type": "markdown",
   "metadata": {},
   "source": [
    "4. Try writing a different function to solve each of the problems you have encountered so far.\n"
   ]
  },
  {
   "cell_type": "code",
   "execution_count": 5,
   "metadata": {},
   "outputs": [],
   "source": [
    "def fibSequence( n ):\n",
    "    if( int(n) ==0):\n",
    "        return 0.0\n",
    "    fibOld = 0.0 # for speed, you should use floats for calculations \n",
    "    if( int(n) == 1):\n",
    "        return 1.0\n",
    "    fibCurr = 1.0\n",
    "    for i in range(1,int(n)): # count in integers\n",
    "        fibNext = fibCurr + fibOld\n",
    "        fibOld = fibCurr\n",
    "        fibCurr = fibNext\n",
    "    return fibNext"
   ]
  },
  {
   "cell_type": "code",
   "execution_count": 6,
   "metadata": {},
   "outputs": [
    {
     "name": "stdout",
     "output_type": "stream",
     "text": [
      "4.346655768693743e+208\n"
     ]
    }
   ],
   "source": [
    "print( fibSequence(1000) )"
   ]
  },
  {
   "cell_type": "markdown",
   "metadata": {},
   "source": [
    "The maximum value of a `float` is around $10^{308}$ so the result of putting values of $n$ a lot bigger than 1000 will be `inf`."
   ]
  },
  {
   "cell_type": "code",
   "execution_count": 7,
   "metadata": {},
   "outputs": [
    {
     "name": "stdout",
     "output_type": "stream",
     "text": [
      "inf\n"
     ]
    }
   ],
   "source": [
    "print( fibSequence(10000) )"
   ]
  },
  {
   "cell_type": "markdown",
   "metadata": {},
   "source": [
    "For $n$ choose $k$, if an integer version was required this would look like:"
   ]
  },
  {
   "cell_type": "code",
   "execution_count": 8,
   "metadata": {},
   "outputs": [],
   "source": [
    "def nChoosek_int(n,k):\n",
    "    numerator = 1;\n",
    "    denominator = 1;\n",
    "    for i in range(1,int(k)+1):\n",
    "        numerator = numerator * int(n+1-i)  \n",
    "    for i in range(1,int(k)+1):\n",
    "        denominator = denominator * int(i) \n",
    "    return numerator // denominator # return the integer division (there shouldn't be a remainder)"
   ]
  },
  {
   "cell_type": "code",
   "execution_count": 9,
   "metadata": {},
   "outputs": [
    {
     "name": "stdout",
     "output_type": "stream",
     "text": [
      "89324486542147378505399719003537200\n"
     ]
    }
   ],
   "source": [
    "print( nChoosek_int(156,35) )"
   ]
  },
  {
   "cell_type": "markdown",
   "metadata": {},
   "source": [
    "Alternatively, a faster (slightly less accurate) version using floats would be"
   ]
  },
  {
   "cell_type": "code",
   "execution_count": 10,
   "metadata": {},
   "outputs": [],
   "source": [
    "def nChoosek_float(n,k):\n",
    "    n_choose_k = 1.0\n",
    "    for i in range(1,int(k)+1):\n",
    "        n_choose_k = n_choose_k * float(n+1-i) /float(i)\n",
    "    return n_choose_k # return the float division "
   ]
  },
  {
   "cell_type": "code",
   "execution_count": 11,
   "metadata": {},
   "outputs": [
    {
     "name": "stdout",
     "output_type": "stream",
     "text": [
      "8.932448654214737e+34\n"
     ]
    }
   ],
   "source": [
    "print( nChoosek_float(156,35) )"
   ]
  },
  {
   "cell_type": "markdown",
   "metadata": {},
   "source": [
    "5. You are given that\n",
    "$$\n",
    "\\phi(\\eta,\\xi) = e^{-\\lambda_b\\eta} e^{-\\lambda_s\\xi} \n",
    "$$\n",
    "and\n",
    "$$\n",
    "\\Gamma(x,t) = (1-\\phi(x^2t,\\sqrt{t})) + \\sin(\\phi (t^{-1},x t^{-2})).\n",
    "$$\n",
    "Write two functions to evaluate these quantities. Calculate $\\Gamma$ when $\\lambda_b = 1.3$, $\\lambda_s =0.26$, $x= \\pi^2$ and $t=\\sqrt{3}$. \n",
    "\t\n",
    "-\tThink about how you can include parameters in your functions."
   ]
  },
  {
   "cell_type": "code",
   "execution_count": 12,
   "metadata": {},
   "outputs": [],
   "source": [
    "from math import sin,exp,sqrt,pi\n",
    "def phi(eta,xi,lambda_b,lambda_s):\n",
    "    return exp(-lambda_b*eta)*exp(-lambda_s*xi)"
   ]
  },
  {
   "cell_type": "code",
   "execution_count": 13,
   "metadata": {},
   "outputs": [
    {
     "name": "stdout",
     "output_type": "stream",
     "text": [
      "0.16202575093388077\n"
     ]
    }
   ],
   "source": [
    "print( phi(1.,2.,1.3,0.26) )"
   ]
  },
  {
   "cell_type": "code",
   "execution_count": 14,
   "metadata": {},
   "outputs": [],
   "source": [
    "def Gamma(x,t,lambda_b,lambda_s):\n",
    "    return (1 - phi(x*x*t,sqrt(t),lambda_b,lambda_s) ) + sin(phi(1./t , x/t/t , lambda_b, lambda_s))"
   ]
  },
  {
   "cell_type": "code",
   "execution_count": 15,
   "metadata": {},
   "outputs": [
    {
     "name": "stdout",
     "output_type": "stream",
     "text": [
      "1.199359843994202\n"
     ]
    }
   ],
   "source": [
    "print( Gamma(pi*pi,sqrt(3.0),1.3,0.26))"
   ]
  },
  {
   "cell_type": "markdown",
   "metadata": {},
   "source": [
    "6. Conside the first ten numbers in the Fibonacci sequence, create a table in **Latex** of the sequence. Your file should be called `fibonacci.tex` or similar, and should output the full table including a caption."
   ]
  },
  {
   "cell_type": "code",
   "execution_count": 16,
   "metadata": {},
   "outputs": [
    {
     "name": "stdout",
     "output_type": "stream",
     "text": [
      "\\begin{tabular}{c|c}\n",
      " $i$ & $F_i$ \\\\\n",
      "\\hline\n",
      "0 & 0.0 \\\\\n",
      "1 & 1.0 \\\\\n",
      "2 & 1.0 \\\\\n",
      "3 & 2.0 \\\\\n",
      "4 & 3.0 \\\\\n",
      "5 & 5.0 \\\\\n",
      "6 & 8.0 \\\\\n",
      "7 & 13.0 \\\\\n",
      "8 & 21.0 \\\\\n",
      "9 & 34.0 \\\\\n",
      "10 & 55.0 \\\\\n",
      "\\end{tabular}{cc}\n"
     ]
    }
   ],
   "source": [
    "# tex tables have the format\n",
    "# \\begin{tabular}{c|c} # this means 2 centrally justified columns with a line inbetween \n",
    "#  row 1 column 1 & row 1 column 2 \\\\\n",
    "# \\hline     %  add a horizontal line \n",
    "#  row 2 column 1 & row 2 column 2 \\\\\n",
    "# \\end{tabular}\n",
    "\n",
    "# check it works printing out\n",
    "print(\"\\\\begin{tabular}{c|c}\")\n",
    "print(\" $i$ & $F_i$ \\\\\\\\\" )\n",
    "print(\"\\\\hline\")\n",
    "for i in range(0,11):\n",
    "    print(i,\"&\",fibSequence(i),\"\\\\\\\\\") # backslashes are a special character so you need to put two together to one in the output\n",
    "print(\"\\\\end{tabular}{cc}\")\n"
   ]
  },
  {
   "cell_type": "markdown",
   "metadata": {},
   "source": [
    "When writing to file, remember to put a `\\n` to indicate the end of a line."
   ]
  },
  {
   "cell_type": "code",
   "execution_count": 17,
   "metadata": {},
   "outputs": [],
   "source": [
    "# to write to file you will need a string\n",
    "f = open('example-table.tex','w')\n",
    "f.write(\"\\\\begin{tabular}{c|c} \\n \")\n",
    "f.write(\" $i$ & $F_i$ \\\\\\\\ \\n \")\n",
    "f.write(\"\\\\hline \\n \")\n",
    "for i in range(0,11):\n",
    "    str = f\"{i} & {fibSequence(i)} \\\\\\\\ \\n\"\n",
    "    f.write(str)\n",
    "f.write(\"\\\\end{tabular} \\n \")\n",
    "f.close()"
   ]
  },
  {
   "cell_type": "markdown",
   "metadata": {},
   "source": [
    "Please see this [Overleaf Project](https://www.overleaf.com/read/psctxvmfbcfw#dd111b) for an example of how to use this in a Latex document. The output in pdf should look like this:-\n",
    "![Table output](../images/example-tex-table.png)"
   ]
  },
  {
   "cell_type": "markdown",
   "metadata": {},
   "source": []
  }
 ],
 "metadata": {
  "kernelspec": {
   "display_name": "Python 3",
   "language": "python",
   "name": "python3"
  },
  "language_info": {
   "codemirror_mode": {
    "name": "ipython",
    "version": 3
   },
   "file_extension": ".py",
   "mimetype": "text/x-python",
   "name": "python",
   "nbconvert_exporter": "python",
   "pygments_lexer": "ipython3",
   "version": "3.11.5"
  }
 },
 "nbformat": 4,
 "nbformat_minor": 2
}
