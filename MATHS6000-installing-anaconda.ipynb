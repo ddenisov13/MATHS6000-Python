{
 "cells": [
  {
   "cell_type": "markdown",
   "metadata": {},
   "source": [
    "<div style='text-align: center;'>\n",
    "<img src=\"images/maths6000-banner.png\" alt=\"image\" width=\"80%\" height=\"auto\">\n",
    "</div>"
   ]
  },
  {
   "cell_type": "markdown",
   "metadata": {},
   "source": [
    "# Installing Anaconda on Windows\n",
    "\n",
    "This guide gives the installation process for windows, but the process on other operating systems is very similar. Once anaconda is installed, the way things work inside it, and for example VSCode (Spyder or any other app launched inside), is almost the same.\n",
    "\n",
    "- First go to Anaconda webpage and download the latest version for your system\n",
    "\n",
    "[https://www.anaconda.com/download](https://www.anaconda.com/download)\n",
    "\n",
    "<div style='text-align: left;'>\n",
    "<img src=\"images/ana-in-01.png\" alt=\"image\" width=\"40%\" height=\"auto\">\n",
    "</div>"
   ]
  },
  {
   "cell_type": "markdown",
   "metadata": {},
   "source": [
    "- download and run the installer \n",
    "- you can accept all the default options\n",
    "\n",
    "<div style='text-align: left;'>\n",
    "<img src=\"images/ana-in-02.png\" alt=\"image\" width=\"30%\" height=\"auto\">\n",
    "</div>"
   ]
  },
  {
   "cell_type": "markdown",
   "metadata": {},
   "source": [
    "- assuming it is just you using the program, it can be installed without root access by selecting \"Just me\"\n",
    "\n",
    "<div style='text-align: left;'>\n",
    "<img src=\"images/ana-in-03.png\" alt=\"image\" width=\"30%\" height=\"auto\">\n",
    "</div>"
   ]
  },
  {
   "cell_type": "markdown",
   "metadata": {},
   "source": [
    "- accept default location\n",
    "\n",
    "<div style='text-align: left;'>\n",
    "<img src=\"images/ana-in-04.png\" alt=\"image\" width=\"30%\" height=\"auto\">\n",
    "</div>"
   ]
  },
  {
   "cell_type": "markdown",
   "metadata": {},
   "source": [
    "- accept defaults\n",
    "\n",
    "<div style='text-align: left;'>\n",
    "<img src=\"images/ana-in-05.png\" alt=\"image\" width=\"30%\" height=\"auto\">\n",
    "</div>"
   ]
  },
  {
   "cell_type": "markdown",
   "metadata": {},
   "source": [
    "- on completion, select to launch `Anaconda Navigator` or load it from the start menu\n",
    "\n",
    "<div style='text-align: left;'>\n",
    "<img src=\"images/ana-in-06.png\" alt=\"image\" width=\"30%\" height=\"auto\">\n",
    "</div>"
   ]
  },
  {
   "cell_type": "markdown",
   "metadata": {},
   "source": [
    "- when you open the navigator program, you will have the option to load a variety of apps. \n",
    "- you can use your favourite app, I will be using `VSCode` in this course unit\n",
    "\n",
    "<div style='text-align: left;'>\n",
    "<img src=\"images/ana-in-07.png\" alt=\"image\" width=\"30%\" height=\"auto\">\n",
    "</div>\n",
    "\n",
    "## What to do next?\n",
    "\n",
    "See the additional workbooks for guides on running python programs and python notebooks inside VSCode. You should [click here to get python files running](https://github.com/pjohno/MATH60082-python/blob/main/MATH60082-running-vscode.ipynb) and then [click here to get notebooks working](ttps://github.com/pjohno/MATH60082-python/blob/main/MATH60082-running-notebooks.ipynb)."
   ]
  }
 ],
 "metadata": {
  "language_info": {
   "name": "python"
  }
 },
 "nbformat": 4,
 "nbformat_minor": 2
}
