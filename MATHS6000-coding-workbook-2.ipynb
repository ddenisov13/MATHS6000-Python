{
 "cells": [
  {
   "cell_type": "markdown",
   "metadata": {},
   "source": [
    "<div style='text-align: center;'>\n",
    "<img src=\"images/maths6000-banner.png\" alt=\"image\" width=\"80%\" height=\"auto\">\n",
    "</div>"
   ]
  },
  {
   "cell_type": "markdown",
   "metadata": {},
   "source": [
    "# Intro to Python Workbook 2\n",
    "\n",
    "## Dr P. V. Johnson\n",
    "## Department of Mathematics\n"
   ]
  },
  {
   "cell_type": "markdown",
   "metadata": {},
   "source": [
    "# Tasks\n",
    "\n",
    "1. Write a function that takes the arguments $a$, $b$ and $c$, computes and then displays the roots\n",
    "of the quadratic equation\n",
    "$$\n",
    "ax^2 + bx + c =0\n",
    "$$\n",
    "You will need to identify whether the roots are real or complex. If the roots are complex,\n",
    "display the results in the form $A + Bi$."
   ]
  },
  {
   "cell_type": "code",
   "execution_count": null,
   "metadata": {},
   "outputs": [],
   "source": []
  },
  {
   "cell_type": "markdown",
   "metadata": {},
   "source": [
    "2. Write a loop to calculate and output the first $n$ fibonacci numbers."
   ]
  },
  {
   "cell_type": "code",
   "execution_count": null,
   "metadata": {},
   "outputs": [],
   "source": []
  },
  {
   "cell_type": "markdown",
   "metadata": {},
   "source": [
    "3. Write a loop to calculate and output the binomial coefficients for $0 \\leq k \\leq n$:\n",
    "$$\n",
    "\t\\left(\\begin{array}{c} n\\\\k \\end{array}\\right)\n",
    "$$"
   ]
  },
  {
   "cell_type": "markdown",
   "metadata": {},
   "source": [
    "4. Try writing a different function to solve each of the problems you have encountered so far.\n"
   ]
  },
  {
   "cell_type": "code",
   "execution_count": null,
   "metadata": {},
   "outputs": [],
   "source": []
  },
  {
   "cell_type": "markdown",
   "metadata": {},
   "source": [
    "5. You are given that\n",
    "$$\n",
    "\\phi(\\eta,\\xi) = e^{-\\lambda_b\\eta} e^{-\\lambda_s\\xi} \n",
    "$$\n",
    "and\n",
    "$$\n",
    "\\Gamma(x,t) = (1-\\phi(x^2t,\\sqrt{t})) + \\sin(\\phi (t^{-1},x t^{-2})).\n",
    "$$\n",
    "Write two functions to evaluate these quantities. Calculate $\\Gamma$ when $\\lambda_b = 1.3$, $\\lambda_s =0.26$, $x= \\pi^2$ and $t=\\sqrt{3}$. \n",
    "\t\n",
    "-\tThink about how you can include parameters in your functions."
   ]
  },
  {
   "cell_type": "code",
   "execution_count": null,
   "metadata": {},
   "outputs": [],
   "source": []
  },
  {
   "cell_type": "markdown",
   "metadata": {},
   "source": [
    "6. Conside the first ten numbers in the Fibonacci sequence, create a table in **Latex** of the sequence. Your file should be called `fibonacci.tex` or similar, and should output the full table including a caption."
   ]
  },
  {
   "cell_type": "code",
   "execution_count": null,
   "metadata": {},
   "outputs": [],
   "source": []
  }
 ],
 "metadata": {
  "kernelspec": {
   "display_name": "Python 3",
   "language": "python",
   "name": "python3"
  },
  "language_info": {
   "name": "python",
   "version": "3.11.7"
  }
 },
 "nbformat": 4,
 "nbformat_minor": 2
}
