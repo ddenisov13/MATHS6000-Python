{
 "cells": [
  {
   "cell_type": "markdown",
   "id": "bdda3ed8-69eb-47f6-8480-f17bfaa1dbe6",
   "metadata": {},
   "source": [
    "<div style='text-align: center;'>\n",
    "<img src=\"images/maths6000-banner.png\" alt=\"image\" width=\"80%\" height=\"auto\">\n",
    "</div>"
   ]
  },
  {
   "cell_type": "markdown",
   "id": "67639144-c698-4cd5-a595-32915d1249f0",
   "metadata": {},
   "source": [
    "# MATHS6000: Intro to Python - Part 2\n",
    "## Dr P. V. Johnson\n",
    "## Department of Mathematics\n",
    "\n",
    "**Many thanks** to Chris Johnson, Stefan Güttel and others for access to the [Level 2 Python Course](https://personalpages.manchester.ac.uk/staff/chris.johnson/python/) developed here in Manchester. Please feel free to explore the resources on the linked site."
   ]
  },
  {
   "cell_type": "markdown",
   "id": "20a0d85b-41cd-4f6e-aabf-15a3501d8316",
   "metadata": {},
   "source": [
    "## Last Time\n",
    "\n",
    "### Topics:\n",
    "- Structure of Programs;\n",
    "- Syntax of Python;\n",
    "- Data and Variables;\n",
    "- Input and Output.\n",
    "\n",
    "### Aims:\n",
    "- Understand the idea of programming a computer;\n",
    "- Write a simple program to input and output data."
   ]
  },
  {
   "cell_type": "markdown",
   "id": "fa96e91c-5811-4333-8c44-bb0c0826735f",
   "metadata": {},
   "source": [
    "## Today...\n",
    "### Topics:\n",
    "- Flow control - if, else, for, do\n",
    "- Functions - how and where to use them\n",
    "- Pointers - pass by reference\n",
    "### Aims:\n",
    "- Use functions, loops and if statement to control a program.\n",
    "- Understand how to pass data between functions"
   ]
  },
  {
   "cell_type": "markdown",
   "id": "78702174-1e23-44b8-a52e-ce8a38032f7a",
   "metadata": {},
   "source": [
    "## If Statements\n",
    "\n",
    "We can use `if`, `elif`, and  `else` to control flow through the program."
   ]
  },
  {
   "cell_type": "code",
   "execution_count": null,
   "id": "40fd3e91-02fa-4e59-aed4-65d978e45f4a",
   "metadata": {},
   "outputs": [],
   "source": [
    "i=int(input(\"Input a value of i\"))\n",
    "\n",
    "if i<0:\n",
    "    print(i,\" is negative\")\n",
    "elif i==0:\n",
    "    print(i,\" is zero\")\n",
    "else:\n",
    "    print(i,\" is positive\")"
   ]
  },
  {
   "cell_type": "markdown",
   "id": "601db8a4-72f6-41c9-9744-765e3f6813a8",
   "metadata": {},
   "source": [
    "To execute more than one command on an `if` condition use indentations\n"
   ]
  },
  {
   "cell_type": "code",
   "execution_count": null,
   "id": "6b3caf02-e637-4848-8321-5ebd82869729",
   "metadata": {},
   "outputs": [],
   "source": [
    "i=int(input(\"Input a value of i\"))\n",
    "\n",
    "if i<0:\n",
    "    i = i*100\n",
    "    print(i,\" is negative\")\n",
    "elif i==0:\n",
    "    print(i,\" is zero\")\n",
    "else:\n",
    "    i = i*200\n",
    "    print(i,\" is positive\")"
   ]
  },
  {
   "cell_type": "markdown",
   "id": "d91ab544-61a6-4ca5-ae84-ac8be6bdf9eb",
   "metadata": {},
   "source": [
    "# Tasks\n",
    "\n",
    "- Write a function that takes the arguments $a$, $b$ and $c$, computes and then displays the roots\n",
    "of the quadratic equation\n",
    "$$\n",
    "ax^2 + bx + c =0\n",
    "$$\n",
    "You will need to identify whether the roots are real or complex. If the roots are complex,\n",
    "display the results in the form $A + Bi$.\n"
   ]
  },
  {
   "cell_type": "markdown",
   "id": "a0b088b3-3cac-4611-80f5-0a79a29b4cb9",
   "metadata": {},
   "source": [
    "## For loops\n",
    "\n",
    "Most common type of loop we use in numerical algorithms is the definitive type. There are hardly any situations in numerics where you wouldn't want to put a limit on the number of times you would want to do something unlike other common tasks.\n",
    "\n",
    "The syntax in python is\n",
    "~~~\n",
    "for <iterator> in <collection>:\n",
    "    <loop body>\n",
    "~~~\n",
    "and the most common usage for us will be of the form\n",
    "~~~\n",
    "for i in range(10):\n",
    "~~~\n",
    "where this will iterate the loop 10 times, starting with `i=0` and ending with `i=9`.\n",
    "    "
   ]
  },
  {
   "cell_type": "code",
   "execution_count": null,
   "id": "4c4b2157-f328-4493-8b96-84ce10054a21",
   "metadata": {},
   "outputs": [],
   "source": [
    "for i in range(10):\n",
    "    print(\" Execute the loop, i:=\",i)"
   ]
  },
  {
   "cell_type": "markdown",
   "id": "2447fdae-6544-421e-9fdd-8a08c811f8ba",
   "metadata": {},
   "source": [
    "Remember many algorithms in mathematics can be written in a form like\n",
    "$$\n",
    "A = \\sum_{i=0}^n f(i)\n",
    "$$\n",
    "which can be replicated with the code\n",
    "~~~\n",
    "sum=0.\n",
    "for i in range(n+1):\n",
    "    sum = sum + f(i)\n",
    "A = sum\n",
    "~~~\n",
    "You can easily change the range by giving a start and finish value, for example\n",
    "~~~\n",
    "range(1,n) # goes from 1,2,...,n-1\n",
    "~~~\n",
    "This is supposed to mimic the input to a standard _C_ loop."
   ]
  },
  {
   "cell_type": "markdown",
   "id": "406dd8fe-2bd9-4f4b-99e7-29f8ee5261de",
   "metadata": {},
   "source": [
    "## Exiting the Loop\n",
    "\n",
    "As stated above we will normally want to limit the maximum number of times we do something, but we may also want to finsh early if some condition  is met, i.e. a solution has been found. You can break from a loop with the `break` command. Say we want to calculate the infinite sum\n",
    "$$\n",
    "S = \\sum_{i=1}^\\infty \\frac{1}{2^i + 1},\n",
    "$$\n",
    "we know this is a convergent series. Starting at $i=1$ each term subsequent, the next term is smaller than the last, so to check for convergence we can stop when\n",
    "$$\n",
    "\\frac{1}{2^i+1} < \\epsilon\n",
    "$$\n",
    "where $\\epsilon>0$ is our tolerance."
   ]
  },
  {
   "cell_type": "code",
   "execution_count": null,
   "id": "ceb076da-1751-434c-a206-aef16d162167",
   "metadata": {},
   "outputs": [],
   "source": [
    "n=10000\n",
    "sum=0.\n",
    "tol = 1.e-6\n",
    "for i in range(1,n+1):\n",
    "    term = 1.0 / (2**i + 1)\n",
    "    sum = sum + term\n",
    "    if term < tol:\n",
    "        print(\" Exit after \",i,\" loops, S:=\",sum)\n",
    "        break"
   ]
  },
  {
   "cell_type": "markdown",
   "id": "470de7f7-2195-4333-9ce6-931425eb2559",
   "metadata": {},
   "source": [
    "# Tasks\n",
    "\n",
    "- Write a loop to calculate and output the first $n$ fibonacci numbers.\n",
    "- Write a loop to calculate and output the binomial coefficients for $0 \\leq k \\leq n$:\n",
    "$$\n",
    "\t\\left(\\begin{array}{c} n\\\\k \\end{array}\\right)\n",
    "$$\n",
    "\t"
   ]
  },
  {
   "cell_type": "markdown",
   "id": "9b47c303-7694-481a-ac9a-3807e2db8227",
   "metadata": {},
   "source": [
    "# Functions\n",
    "\n",
    "The general syntax for a function is:\n",
    "~~~\n",
    "def <function_name>(<arguments>):\n",
    "    <function statements>\n",
    "~~~\n",
    "Functions must be declared before they are used."
   ]
  },
  {
   "cell_type": "code",
   "execution_count": null,
   "id": "510b0306-aa08-4f0a-8780-cc7c5ec320dd",
   "metadata": {},
   "outputs": [],
   "source": [
    "## Example Function\n",
    "def square(x):\n",
    "    return x*x\n",
    "\n",
    "i = 3\n",
    "print( square(i) )"
   ]
  },
  {
   "cell_type": "markdown",
   "id": "170fe276",
   "metadata": {},
   "source": [
    "We can declare multiple functions and they can be called in a subsequent functions, and combined together. The return value (or variable type) of a function must match the required parameter it goes in next, so normally doing number calculations this all works fine."
   ]
  },
  {
   "cell_type": "code",
   "execution_count": null,
   "id": "27bb62b5",
   "metadata": {},
   "outputs": [],
   "source": [
    "## Example Functions used together\n",
    "def square(x):\n",
    "    return x*x\n",
    "\n",
    "def add(a,b):\n",
    "    return a+b\n",
    "\n",
    "def mult(a,b):\n",
    "    return a*b\n",
    "\n",
    "def quad(a,b,c,x):\n",
    "    return add( mult(a,square(x)) , add( mult(b,x) , c ) )\n",
    "\n",
    "a = 3\n",
    "b = 5\n",
    "c = 4\n",
    "x = 1.45\n",
    "print( quad(a,b,c,x) )"
   ]
  },
  {
   "cell_type": "markdown",
   "id": "caac6ac8-ad3d-48d6-b411-3e5bb143d29a",
   "metadata": {},
   "source": [
    "# Tasks\n",
    "\n",
    "- Try writing a different function to solve each of the problems you have encountered so far.\t\n",
    "- You are given that\n",
    "$$\n",
    "\\phi(\\eta,\\xi) = e^{-\\lambda_b\\eta} e^{-\\lambda_s\\xi} \n",
    "$$\n",
    "and\n",
    "$$\n",
    "\\Gamma(x,t) = (1-\\phi(x^2t,\\sqrt{t})) + \\sin(\\phi (t^{-1},x t^{-2})).\n",
    "$$\n",
    "Write two functions to evaluate these quantities. Calculate $\\Gamma$ when $\\lambda_b = 1.3$, $\\lambda_s =0.26$, $x= \\pi^2$ and $t=\\sqrt{3}$. \n",
    "\t\n",
    "-\tThink about how you can include parameters in your functions."
   ]
  },
  {
   "cell_type": "markdown",
   "id": "31a0b4bf",
   "metadata": {},
   "source": [
    "## File Output\n",
    "\n",
    "- There may be times when you want to output data to a file, for example results for a table.\n",
    "- The command to output results is quite simple, however often we want data to be formatted (you might only want to print the first 8 digits of a float rather than all 16).\n",
    "- To format data we need to use strings.\n",
    "- Normally you want to create a line of text in a string, then write the string to file, so the code looks something like:\n",
    "~~~\n",
    "f = open('MyResults.csv','w') ## open a file to write to\n",
    "...\n",
    "n = ...                     # some number\n",
    "result = ...                # some result\n",
    "str = f\" {n} , {result} \\n\"  # put n in first, seperate by comma, put the result, then end the line with '\\n'\n",
    "f.write(str)                # write to file\n",
    "...\n",
    "f.close()\n",
    "~~~\n",
    "- don't forget to close the file when you are finished\n",
    "- Some objects in python already have automatic ways to write into csv format, for example `numpy`, please look them up before writing yourself\n",
    "- See the [Python Documentation on strings](https://docs.python.org/3/library/string.html#formatstrings) for more details on formatting\n",
    "- Although this website: [https://pyformat.info/](https://pyformat.info/) gives more practical explanations that are a bit easier to understand."
   ]
  },
  {
   "cell_type": "code",
   "execution_count": 7,
   "id": "00bade96",
   "metadata": {},
   "outputs": [],
   "source": [
    "f = open('MyResults.csv','w')\n",
    "n=10\n",
    "result = 1/(n*2+1)\n",
    "str = f\" {n} , {result} \\n\"\n",
    "f.write(str)\n",
    "f.close()"
   ]
  },
  {
   "cell_type": "markdown",
   "id": "f80ce2f8",
   "metadata": {},
   "source": [
    "[Click here for an example python script](https://raw.githubusercontent.com/pjohno/MATH60082-python/main/examples/MATH60082-support-example-4.py)"
   ]
  },
  {
   "cell_type": "markdown",
   "id": "d4784a74",
   "metadata": {},
   "source": [
    "# Tasks\n",
    "\n",
    "- Conside the first ten numbers in the Fibonacci sequence, create a table in **Latex** of the sequence. Your file should be called `fibonacci.tex` or similar, and should output the full table including a caption."
   ]
  },
  {
   "cell_type": "markdown",
   "id": "c1a0f15c-5dd8-40b6-a5c3-15635eafe68f",
   "metadata": {},
   "source": [
    "## Objects\n",
    "\n",
    "- Data in python is stored in objects or classes.\n",
    "- In the example above, it would be better if somehow the $\\Gamma$ function and the $\\phi$ function could be aware of the value of $\\lambda_b$ and $\\lambda_s$, without adding them to the parameter list.\n",
    "- We want to code with $\\phi(\\eta,\\xi)$, not $\\phi(\\eta,\\xi,\\lambda_b,\\lambda_s)$, especially in problems with lots of parameters.\n",
    "- Classes allow us to store data alongside functions, so we create a structure to store the values of $\\lambda_*$ and the functions together, so they are aware of each other."
   ]
  },
  {
   "cell_type": "markdown",
   "id": "3697cbbf",
   "metadata": {},
   "source": [
    "<div style='text-align: center;'>\n",
    "<img src=\"images/GammaFunctionClass.png\" alt=\"image\" width=\"50%\" height=\"auto\">\n",
    "</div>"
   ]
  },
  {
   "cell_type": "markdown",
   "id": "adbebe01",
   "metadata": {},
   "source": [
    "In code this looks like:"
   ]
  },
  {
   "cell_type": "code",
   "execution_count": 8,
   "id": "52ffd3b9-5fc4-45a2-8401-650ac7a0d797",
   "metadata": {},
   "outputs": [],
   "source": [
    "# Gamma Function, sets value of lambda_s and lambda_b and then calculates the values of the function defined above\n",
    "class GammaFunction:\n",
    "    # import some functions from the math library\n",
    "    from math import exp,sin,sqrt\n",
    "    # use the initialisation function to set value of lambda_s and lambda_b\n",
    "    def __init__(self, lambda_b, lambda_s):\n",
    "        # good idea to make sure values here are floats\n",
    "        self.lambda_b = float(lambda_b)\n",
    "        self.lambda_s = float(lambda_s)\n",
    "    # definition of the phi function\n",
    "    def phi(self, eta, xi):\n",
    "        return self.exp( -self.lambda_b*eta)*self.exp( -self.lambda_s*xi )\n",
    "    # definition of the value function Gamma(x,t)\n",
    "    def value(self, x, t):\n",
    "        return ( 1 - self.phi(x*x*t,self.sqrt(t)) ) + self.sin( self.phi( 1./t , x/t/t ) )"
   ]
  },
  {
   "cell_type": "markdown",
   "id": "8be22ea7",
   "metadata": {},
   "source": [
    "In the class declaration, we have:\n",
    "- an import command to get some functions we need to execute the program.\n",
    "- `__init__` function to set the initial values.\n",
    "- the variable `self` refers to the _instance_ of the object, so variables such as `self.lambda_b` can have a different value in every instance. Functions that have `self` as a parameter are declared to be dependent on each instance, so in other words they are not `static`. Other languages do this the other way around so the default is non-static, and you have to explicitly say when functions are static.\n",
    "- function definitions `phi` and `value` do the calculations\n",
    "\n",
    "To use this we write\n",
    "~~~\n",
    "<object name> = GammaFunction( <value of lambda_b> , <value of lambda_s> )\n",
    "~~~\n",
    "and every time we do this the value of $\\lambda_b$ and $\\lambda_s$ will be set in the object. The way this class is written, the value of lambda_s and lambda_b **cannot** be changed after initialisation."
   ]
  },
  {
   "cell_type": "code",
   "execution_count": null,
   "id": "ff406a50-bf27-457c-a9d8-9d97f66b9fd7",
   "metadata": {},
   "outputs": [],
   "source": [
    "from math import pi,sqrt\n",
    "\n",
    "G = GammaFunction( 1.3 , 0.26 )\n",
    "print( G.value( pi*pi , sqrt(3.) ) )"
   ]
  },
  {
   "cell_type": "markdown",
   "id": "d23f37ce",
   "metadata": {
    "tags": [
     "parameters"
    ]
   },
   "source": [
    "You do not need to write your own classes in this course unit, but they will help in some circumstances. If classes are provided in class or tutorials, you are free to use those in your solutions. You will need to know how to use other classes (or objects) provided in the standard libraries."
   ]
  }
 ],
 "metadata": {
  "kernelspec": {
   "display_name": "Python 3 (ipykernel)",
   "language": "python",
   "name": "python3"
  },
  "language_info": {
   "codemirror_mode": {
    "name": "ipython",
    "version": 3
   },
   "file_extension": ".py",
   "mimetype": "text/x-python",
   "name": "python",
   "nbconvert_exporter": "python",
   "pygments_lexer": "ipython3",
   "version": "3.11.7"
  }
 },
 "nbformat": 4,
 "nbformat_minor": 5
}
