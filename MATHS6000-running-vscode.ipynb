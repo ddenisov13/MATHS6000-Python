{
 "cells": [
  {
   "cell_type": "markdown",
   "metadata": {},
   "source": [
    "<div style='text-align: center;'>\n",
    "<img src=\"images/maths6000-banner.png\" alt=\"image\" width=\"80%\" height=\"auto\">\n",
    "</div>"
   ]
  },
  {
   "cell_type": "markdown",
   "metadata": {},
   "source": [
    "# Running Python Files on VSCode (inside Anaconda)\n",
    "\n",
    "- From inside Anaconda Navigator, select to launch VSCode. \n",
    "- On the first time opening, you will need to select your theme.\n",
    "- I'm using light theme as it's easier to read in tutorials!\n",
    "<div style='text-align: left;'>\n",
    "<img src=\"images/ana-01.png\" alt=\"image\" width=\"40%\" height=\"auto\">\n",
    "</div>"
   ]
  },
  {
   "cell_type": "markdown",
   "metadata": {},
   "source": [
    "- Next open a folder to use as your workspace.\n",
    "\n",
    "<div style='text-align: left;'>\n",
    "<img src=\"images/ana-02.png\" alt=\"image\" width=\"50%\" height=\"auto\">\n",
    "</div>"
   ]
  },
  {
   "cell_type": "markdown",
   "metadata": {},
   "source": [
    "- You will probably want a new folder for this course. \n",
    "- I'm calling this one MATH60082-Python.\n",
    "\n",
    "<div style='text-align: left;'>\n",
    "<img src=\"images/ana-03.png\" alt=\"image\" width=\"45%\" height=\"auto\">\n",
    "</div>"
   ]
  },
  {
   "cell_type": "markdown",
   "metadata": {},
   "source": [
    "- Just say you accept/trust the author/owners. \n",
    "- My default so far is to just accept/install everything as prompted.\n",
    "\n",
    "<div style='text-align: left;'>\n",
    "<img src=\"images/ana-04.png\" alt=\"image\" width=\"40%\" height=\"auto\">\n",
    "</div>"
   ]
  },
  {
   "cell_type": "markdown",
   "metadata": {},
   "source": [
    "- Next we want to open up a new python file to run. \n",
    "- Opening the file will bring up a prompt\n",
    "\n",
    "<div style='text-align: left;'>\n",
    "<img src=\"images/ana-05.png\" alt=\"image\" width=\"20%\" height=\"auto\">\n",
    "</div>"
   ]
  },
  {
   "cell_type": "markdown",
   "metadata": {},
   "source": [
    "- Select a new `Python` file at the prompt\n",
    "\n",
    "<div style='text-align: left;'>\n",
    "<img src=\"images/ana-06.png\" alt=\"image\" width=\"30%\" height=\"auto\">\n",
    "</div>"
   ]
  },
  {
   "cell_type": "markdown",
   "metadata": {},
   "source": [
    "- When the file opens, enter the line of code \n",
    "~~~\n",
    "print(\"Hello World\")\n",
    "~~~\n",
    "at the top and save with an appropriate filename. \n",
    "- As long as the `filetype` is `Python`, the file should be saved as`<filename>.py`.\n",
    "\n",
    "<div style='text-align: left;'>\n",
    "<img src=\"images/ana-07.png\" alt=\"image\" width=\"75%\" height=\"auto\">\n",
    "</div>"
   ]
  },
  {
   "cell_type": "markdown",
   "metadata": {},
   "source": [
    "- You may get a prompt at the bottom to install some extensions, just accept and install.\n",
    "\n",
    "<div style='text-align: left;'>\n",
    "<img src=\"images/ana-08.png\" alt=\"image\" width=\"50%\" height=\"auto\">\n",
    "</div>"
   ]
  },
  {
   "cell_type": "markdown",
   "metadata": {},
   "source": [
    "- In fact you should click on the `Extensions` on the sidebar (four squares with one removed) and install the `Python Extension Pack`. \n",
    "- You can easily find it by searching for `python`.\n",
    "\n",
    "<div style='text-align: left;'>\n",
    "<img src=\"images/ana-09.png\" alt=\"image\" width=\"50%\" height=\"auto\">\n",
    "</div>"
   ]
  },
  {
   "cell_type": "markdown",
   "metadata": {},
   "source": [
    "- Now click on the `python` symbol that should have appeared on the sidebar. \n",
    "- Confirm that you can see `Conda ##` as one of the available environments, and select to use this as the default environment.\n",
    "\n",
    "**NOTE** If you have opened VSCode from the startmenu, you will not see this as an available environment. Please start Anaconda Navigator and launch VSCode from there.\n",
    "\n",
    "<div style='text-align: left;'>\n",
    "<img src=\"images/ana-10.png\" alt=\"image\" width=\"30%\" height=\"auto\">\n",
    "</div>"
   ]
  },
  {
   "cell_type": "markdown",
   "metadata": {},
   "source": [
    "- Now select the play button on the top right to run your code:\n",
    "\n",
    "<div style='text-align: left;'>\n",
    "<img src=\"images/ana-11.png\" alt=\"image\" width=\"20%\" height=\"auto\">\n",
    "</div>"
   ]
  },
  {
   "cell_type": "markdown",
   "metadata": {},
   "source": [
    "- You should see a console appear at the bottom of the screen and \"Hello World\" should be printed out.\n",
    "\n",
    "<div style='text-align: left;'>\n",
    "<img src=\"images/ana-12.png\" alt=\"image\" width=\"40%\" height=\"auto\">\n",
    "</div>"
   ]
  },
  {
   "cell_type": "markdown",
   "metadata": {},
   "source": [
    "- In order to check everything has been setup correctly, try importing a function from the `scipy` module. \n",
    "- Enter the following code in a file and try running it:\n",
    "~~~\n",
    "from scipy.special import erf\n",
    "\n",
    "print(\"Error Function erf(1.0)=\",erf(1.0))\n",
    "~~~\n",
    "\n",
    "<div style='text-align: left;'>\n",
    "<img src=\"images/ana-13.png\" alt=\"image\" width=\"75%\" height=\"auto\">\n",
    "</div>"
   ]
  },
  {
   "cell_type": "markdown",
   "metadata": {},
   "source": [
    "You should see the value of the error function printed out in the console."
   ]
  }
 ],
 "metadata": {
  "kernelspec": {
   "display_name": "Python 3",
   "language": "python",
   "name": "python3"
  },
  "language_info": {
   "name": "python",
   "version": "3.11.7"
  }
 },
 "nbformat": 4,
 "nbformat_minor": 2
}
