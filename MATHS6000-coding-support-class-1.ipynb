{
 "cells": [
  {
   "cell_type": "markdown",
   "id": "51340674-514b-4854-9a8c-900a03984351",
   "metadata": {},
   "source": [
    "<div style='text-align: center;'>\n",
    "<img src=\"images/maths6000-banner.png\" alt=\"image\" width=\"80%\" height=\"auto\">\n",
    "</div>"
   ]
  },
  {
   "cell_type": "markdown",
   "id": "504092c8-e2fb-4a17-9602-a5cff30c4ec2",
   "metadata": {},
   "source": [
    "# MATHS6000: Intro to Python - Part 1\n",
    "## Dr   D. Denisov\n",
    "## Department of Mathematics\n",
    "\n",
    "**Many thanks** to Chris Johnson, Stefan Güttel and others for access to the MATH20621 - Level 2 Python Course developed here in Manchester. Many thanks to Paul Johnson for sharing these materials. "
   ]
  },
  {
   "cell_type": "markdown",
   "id": "4a30c4f6-00cf-45bf-adff-f52ac5893f52",
   "metadata": {},
   "source": [
    "### Topics:\n",
    "\n",
    "+ What is a Program;\n",
    "+ Syntax and Structure of a Program;\n",
    "+ Data and Variables;\n",
    "\n",
    "### Aims:\n",
    "- Understand the idea of programming a computer;\n",
    "- Write a simple program to input and output data."
   ]
  },
  {
   "cell_type": "markdown",
   "id": "1c4dad0f-4280-47bb-be78-195d8b25cce4",
   "metadata": {},
   "source": [
    "## What is a program?\n",
    "\n",
    "A program is sequence of instructions to enable a computer to complete a task.\n",
    "- Computers can **remember** programs\n",
    "- Originally programs had to be written in machine code --- _low-level_\n",
    "- Now we write programs in code\n",
    "- _and let the computer write the machine code for us!_\n",
    "- C/C++ are best described as mid-level languages\n",
    "- Higher-level languages include java, Fortran and others.\n",
    "- Scripting languages are now very popular"
   ]
  },
  {
   "cell_type": "markdown",
   "id": "e4b1ad70-7079-4bf1-bc49-22b7e7ae07c6",
   "metadata": {},
   "source": [
    "## Why Python?\n",
    "\n",
    "- Python is widely chosen for its readability, simplicity, and versatility -- it is good both for beginners and experts\n",
    "- Has extensive libraries and community support -- especially in Scientific Computing, data science, and artificial intelligence.\n",
    "- Highly portable, can be quickly installed and run on almost any machine\n",
    "- Compiles on the fly making it easier to get results\n",
    "- but easier to make mistakes (of the kind you can't spot).\n"
   ]
  },
  {
   "cell_type": "markdown",
   "id": "bffb25a4-9b81-45b3-a487-5b29020c9ff7",
   "metadata": {},
   "source": [
    "## Writing Python\n",
    "The key elements of Python syntax are:\n",
    "- Each line gives a single statement\n",
    "~~~\n",
    "y = x + 3\n",
    "~~~\n",
    "- Unless specified python will _guess_ what type the data is\n",
    "~~~\n",
    "# easy to guess name will be a \"string\", and x is a number\n",
    "name = \"Paul\"\n",
    "x = 1.0\n",
    "~~~\n",
    "- Comment lines start with ~#~\n",
    "~~~\n",
    "# my explanation of the next line...\n",
    "~~~\n",
    "- Indentations indicate when and where code blocks start and finish\n",
    "~~~\n",
    "x=1\n",
    "if x==1:\n",
    "    # line inside the if statement are indented\n",
    "    print(\"All of these statements\")\n",
    "    print(\"will be executed conditional\")\n",
    "    print(\"on x=1\")\n",
    "# unindented means block ended\n",
    "print(\"This always prints regardless\")\n",
    "~~~\n"
   ]
  },
  {
   "cell_type": "markdown",
   "id": "c05b3e72-7d5a-4bcc-81e0-848afe01a1dd",
   "metadata": {},
   "source": [
    "## Example Program Structure\n",
    "\n",
    "<table width=100% style='text-align: left;'>\n",
    "<tr>\n",
    "    <td><img src=\"images/program-structure.png\" alt=\"image\" width=\"75%\" height=\"auto\"></td>\n",
    "    <td width=65%> <ul><li>Include libraries and methods</li>\n",
    "        <li>Create data types and variable names</li>\n",
    "        <li> Input values for variables</li>\n",
    "        <li> Required calculations are carried out in sequence </li>\n",
    "        <li> Output results to the screen or a file</li>\n",
    "    </ul>\n",
    "    </td>\n",
    "</tr>\n",
    "</table>"
   ]
  },
  {
   "cell_type": "markdown",
   "id": "12698cdf-7dea-48a8-95ee-df2216fc0176",
   "metadata": {},
   "source": [
    "## An example program"
   ]
  },
  {
   "cell_type": "code",
   "execution_count": 3,
   "id": "2cd16ac8-6aac-4b02-995e-9312fa507395",
   "metadata": {},
   "outputs": [
    {
     "name": "stdout",
     "output_type": "stream",
     "text": [
      "The area of a circle with radius 4 is 50.26548245743669\n"
     ]
    }
   ],
   "source": [
    "#!/usr/bin/env python3\n",
    "\"\"\" \n",
    "A program to calculate the area of a circle with radius 4\n",
    "\"\"\"\n",
    "# libraries and methods\n",
    "import math\n",
    "\n",
    "# declare variables and assign values\n",
    "radius = 4.0\n",
    "pi = math.pi\n",
    "\n",
    "# do the calculations\n",
    "area = pi * radius * radius\n",
    "\n",
    "# output the results\n",
    "print(\"The area of a circle with radius 4 is\",area)"
   ]
  },
  {
   "cell_type": "markdown",
   "id": "3eee648e-dbf0-48d4-b6ba-c4e437731e42",
   "metadata": {},
   "source": [
    "**Note:** Python programs should be saved as _filename.py_. Also, a full Python program should always start with the following:\n",
    "- the first line:\n",
    "~~~\n",
    "#!/usr/bin/env python3\n",
    "~~~\n",
    "  This has no meaning on Windows, but it makes your programs easier to run on Linux and Mac OSX.\n",
    "- Right after that, a description what the program does, possibly with some other info (system requirements, authors name and contact, etc.), between the triple quotation marks. This is called a docstring."
   ]
  },
  {
   "cell_type": "markdown",
   "id": "c2680efd-3273-41e3-9804-ce459afc247d",
   "metadata": {},
   "source": [
    "## IDE or Notebooks\n",
    "\n",
    "A python program is saved as an UTF-8 text file and can written in any editor, and usefully it can also be run interactively in a notebook.\n",
    "- In this course we will encourage the use of an Integrated Development Environment (IDE).\n",
    "- The two recommended pieces of software are:\n",
    "    - Spyder \n",
    "    - Visual Studio Code\n",
    "- Both programs are available on Mac, Linux and Windows.\n",
    "- For our purposes in this course, it will **not** matter on which platform you write the code.\n"
   ]
  },
  {
   "cell_type": "markdown",
   "id": "555c646c",
   "metadata": {},
   "source": [
    "# Tasks\n",
    "\n",
    "## In Class Today\n",
    "- Please see the page on running Anaconda  [see MATHS6000 installing anaconda](https://github.com/ddenisov13/MATHS6000-Python/blob/main/MATHS6000-installing-anaconda.ipynb)\n",
    "\n",
    "## At Home or in Uni where Available\n",
    "\n",
    "- Open up VSCode and run a simple program ([see MATHS6000 running vscode](https://github.com/ddenisov13/MATHS6000-python/blob/main/MATHS6000-running-vscode.ipynb))\n",
    "- Try opening up a notebook and running some simple code ([see MATHS6000 running notebooks](https://github.com/ddenisov13/MATHS6000-python/blob/main/MATHS6000-running-notebooks.ipynb))"
   ]
  },
  {
   "cell_type": "code",
   "execution_count": null,
   "id": "b9b28c96",
   "metadata": {},
   "outputs": [],
   "source": []
  },
  {
   "cell_type": "markdown",
   "id": "f3b506c9-b9ed-469e-980a-6142abcfc3cf",
   "metadata": {},
   "source": [
    "## How do we input/output some data?\n",
    "\n",
    "Not surprisingly, using the function input() we can input variables from the keyboard (user). For output, the `print` function can print any number of peices of data seperated by commas. Formatting data is relatively unimportant in this course so we won't go into too much detail."
   ]
  },
  {
   "cell_type": "code",
   "execution_count": 5,
   "id": "16ee2167-fa88-458f-9feb-55fad684f331",
   "metadata": {},
   "outputs": [
    {
     "name": "stdout",
     "output_type": "stream",
     "text": [
      "The value of x is 333\n"
     ]
    }
   ],
   "source": [
    "x = input(\"Input the value of x:\")\n",
    "print(\"The value of x is\", x)"
   ]
  },
  {
   "cell_type": "markdown",
   "id": "66dfdcf5-0c9b-4f1a-95cc-df956fa24d7d",
   "metadata": {},
   "source": [
    "Well, this `x` looks kind of important here. What could it be?"
   ]
  },
  {
   "cell_type": "markdown",
   "id": "0c432782-e936-4f5b-9203-6ad6858e080f",
   "metadata": {},
   "source": [
    "## Variables\n",
    "\n",
    "- Variables are used to store and retrieve data\n",
    "- Every variable has a value (which, in Python, can be undefined) and a type (partly hidden in Python)."
   ]
  },
  {
   "cell_type": "markdown",
   "id": "8300f2ec-3eab-4d1d-94c4-a20b77e63fac",
   "metadata": {},
   "source": [
    "## What is in a name?\n",
    "\n",
    "- Each variable requires a unique name (in the same scope)\n",
    "- Once your programs become bigger this is harder than it sounds"
   ]
  },
  {
   "cell_type": "markdown",
   "id": "733375b5-faa9-483a-8d09-400f528af083",
   "metadata": {},
   "source": [
    "## Simple types\n",
    "\n",
    "- **int** -- Integer -- we use these to **count**.\n",
    "- **float** -- Number -- generally, what you'd consider a real number in mathematics.\n",
    "- **complex** -- Complex Number -- what you'd expect\n",
    "- **str** -- string -- a text. For example: \"word\", \"This is a mighty deep, philosophical sentence.\", \"ŞƿҿÇïåĿ sɹǝʇɔɐɹɐɥɔ\", \"17\", ... The so-called empty string, \"\", has no characters (its length is zero).\n",
    "- **bool** -- Boolean -- truth values (True and False).\n",
    "- **NoneType** -- Unspecified -- the type of a special constant None that means \"no value\".\n",
    "    This is not a zero (a number), nor an empty string, nor anything else! None is different from any other constant and any other value that a variable can get.\n"
   ]
  },
  {
   "cell_type": "markdown",
   "id": "f92374cb-3713-40a9-8a15-ff4b57c641cc",
   "metadata": {},
   "source": [
    "Be careful assigning variables -- especially in maths!"
   ]
  },
  {
   "cell_type": "code",
   "execution_count": null,
   "id": "258e85cd-8f9a-45ad-a680-620ecc25d54c",
   "metadata": {},
   "outputs": [],
   "source": [
    "x = input(\"Input the value of x: \")\n",
    "y = input(\"Input the value of y: \")\n",
    "print(x, \"+\", y, \"=\", x+y)\n"
   ]
  },
  {
   "cell_type": "markdown",
   "id": "00055962-27b2-47c5-87a1-fd6f981e16d6",
   "metadata": {},
   "source": [
    "## What just happened here?\n",
    "\n",
    "The user types two numbers, which are saved -- as two strings -- in variables x and y. Then the program writes out (among other things) the value of x+y.\n",
    "\n",
    "How would we \"add\" one string to another in the real world?\n",
    "\n",
    "For example, if x = \"Bruce\" and y = \"Wayne\", what would x + y be?\n",
    "\n",
    "(It may come as a little surprise that \"x + y\" will not produce \"Batman\". Python is a well defined language that keeps Bruce's secret identity well hidden.)\n",
    "\n",
    "The result of x+y will be \"BruceWayne\". Notice that there is no additional space here: the strings are glued (concatenated) one to another, with no extra separators!\n",
    "\n",
    "So, what happens if x = \"17\" and y = \"19\"?\n",
    "\n",
    "It would be very bad if Python looked at these and decided that they were numbers only because they have nothing but digits. Maybe we want them concatenated (as opposed to adding them one to another)!\n",
    "\n",
    "So, the result is -- by now no longer surprisingly -- \"1719\", because the strings' addition + is a concatenation, regardless of the value of the strings in question.\n",
    "\n",
    "How do we tell Python to \"treat these two variables as numbers\"?\n"
   ]
  },
  {
   "cell_type": "markdown",
   "id": "272b04b6-0e9a-4585-bb26-64db99a9b349",
   "metadata": {},
   "source": [
    "## Assigning Data Types\n",
    "\n",
    "We can explicitly tell Python to convert a string to an integer or a real number, and vice versa."
   ]
  },
  {
   "cell_type": "code",
   "execution_count": null,
   "id": "c6a70ccc-364b-4a8e-b869-a234f6f2387d",
   "metadata": {},
   "outputs": [],
   "source": [
    "x = int(input(\"Input the value of x:\"))\n",
    "y = float(input(\"Input the value of y:\"))\n",
    "print(\"x = \", x)\n",
    "print(\"y = \", y)\n",
    "print(\"x+y = \", x+y)\n",
    "z = 'This is a string: \"' + str(x+y) + '\"'\n",
    "print(z)"
   ]
  },
  {
   "cell_type": "markdown",
   "id": "31b31edb-6b08-43c3-960f-525faaf61bb8",
   "metadata": {},
   "source": [
    "We see three conversion functions:\n",
    "\n",
    "- `int()`, which takes a string and converts it to an integer. If the argument is not a string representation of an integer, an error occurs.\n",
    "- `float()`, which takes a string and converts it to a \"real\" number (also called floating point number, hence the name of the function). If the argument is not a string representation of a real number, an error occurs.\n",
    "- `str()`, which takes a number (among other allowed types) and converts it to a string.\n",
    "\n"
   ]
  },
  {
   "cell_type": "markdown",
   "id": "ec8d4481-5f8c-4e68-9603-9d017f893eee",
   "metadata": {},
   "source": [
    "## Statements\n",
    "\n",
    "Each line of code is a statement. Every statement should either call a function (see \"print\" above) or assign a value to something.\n",
    "\n",
    "We can assign the value to a variable using `=`, there should only be **one** equals (or assignment) in any one line.\n",
    "\n",
    "- We can do **calculations** on the **right hand side** of the `=`\n",
    "~~~\n",
    "x = 10. +  21.5\n",
    "~~~\n",
    "The data types on both sides of `=` should match, Python will try to do conversions if they don't, but sometimes it won't know what you mean, so:\n",
    "~~~\n",
    "a = 1.\n",
    "b = \"t\"\n",
    "print(a + b)\n",
    "~~~\n",
    "will give an error.\n",
    "- We can add/subtract, multiply/divide _most_ standard data types\n",
    "~~~\n",
    "b = 5.\n",
    "c = 4.1\n",
    "a = 10. * b +  c\n",
    "~~~\n",
    "- variables you are assigning to can appear on the right hand side\n",
    "~~~\n",
    "x = 3\n",
    "x = x + 2\n",
    "print(x)\n",
    "~~~\n",
    "The output from the above code will be \"5\". The first line assigns `x` the value `3`, on the next line, the calculation on the right hand side of the `=` is done first `3+2`, then the result is assigned to `x`. You could think of this like a recurrance relation.\n",
    "$$\n",
    "x_{n+1} = x_n + 2\n",
    "$$"
   ]
  },
  {
   "cell_type": "markdown",
   "id": "f6221299-5546-4e76-8906-2b1ac8b20654",
   "metadata": {},
   "source": [
    "## Operators\n",
    "\n",
    "<table width=\"50%\">\n",
    "    <tr>\n",
    "        <th>Operator</th><th>Name</th><th>Example</th>\n",
    "    </tr>\n",
    "    <tr>\n",
    "        <td>+</td><td>Addition</td><td>x + y \t</td>\n",
    "    </tr> \t\n",
    "    <tr>\n",
    "        <td>- \t</td><td>Subtraction</td><td>x - y \t</td>\n",
    "    </tr>\n",
    "    <tr>\n",
    "        <td>*</td><td>Multiplication</td><td>x * y \t</td>\n",
    "    </tr> \t\n",
    "    <tr>\n",
    "        <td>/</td><td>Division</td><td>x / y \t</td>\n",
    "    </tr>\n",
    "    <tr>\n",
    "        <td>%</td><td>Modulus</td><td>x % y \t</td>\n",
    "    </tr>\n",
    "    <tr>\n",
    "        <td>**</td><td>Exponentiation</td><td>\tx ** y \t</td>\n",
    "    </tr>\n",
    "    <tr>\n",
    "        <td>//</td><td>Floor division</td><td>x // y</td>\n",
    "    </tr>\n",
    "</table>\n",
    "Most of the operators in the above table have the same meaning as in mathematics (for those knowing C: / means the usual, i.e., real division). The three not used in mathematics are defined as follows:\n",
    "\n",
    "- `x // y` means floored quotient of x and y (also called integer division)\n",
    "- `x % y` means the remainder of x/y\n",
    "- `x ** y` means $x^y$."
   ]
  },
  {
   "cell_type": "markdown",
   "id": "0ac410de",
   "metadata": {},
   "source": [
    "# Tasks\n",
    "\n",
    "- Try doing some simple calculations with integers and doubles. Work out\n",
    "$$\n",
    "\\frac{a}{x} + bx \n",
    "$$\n",
    "$$\n",
    "ax^2 + bx + c\n",
    "$$\n",
    "$$\n",
    "\\frac{a + b*x}{c^4}\n",
    "$$\n",
    "where\n",
    "$$\n",
    "a = 1.17745, \\quad b=3, \\quad c=-1004.1, \\text{ and } x = 24.539~.\n",
    "$$\n",
    "Use brackets to order the calculations. Try assigning the variables as `int`, `float` or `str` -- what happens?\n"
   ]
  },
  {
   "cell_type": "markdown",
   "id": "2f07f267-8ffd-470a-8f94-39df2e5dbab3",
   "metadata": {},
   "source": [
    "# Including Libraries\n",
    "\n",
    "- Python has a **vast** array of libraries that can perform all sorts of tasks, most importantly for this course:\n",
    "    - input/output to file;\n",
    "\t- mathematical special functions;\n",
    "    - linear algebra and scientific computing;\n",
    "    - plotting and data visualisation.\n",
    "- The syntax for including libraries is:\t\n",
    "~~~\n",
    "import library_name\n",
    "~~~\n",
    "- The library must be available and installed on your system.\n",
    "- Anaconda installs by default common Scientific Computing packages such as `numpy`, `scipy` and `matplotlib`.\n",
    "- Include statements must appear before the statements which use them."
   ]
  },
  {
   "cell_type": "markdown",
   "id": "8b13c404-fd90-4a1a-9796-8b58a7ebc9de",
   "metadata": {},
   "source": [
    "## Accessing Library Functions\n",
    "\n",
    "Library functions can be accessed by writing `library_name.function_name`, so to get the `sin` function from the `math` library we would write:\n",
    "~~~\n",
    "import math\n",
    "print( math.sin(1.) )\n",
    "~~~\n",
    "If you are using the `sin` function a lot, you may get fed up of writing \"`math.`\" before it every time. To get round this we can directly import the function\n",
    "~~~\n",
    "from math import sin\n",
    "print( sin(1.) )\n",
    "~~~"
   ]
  },
  {
   "cell_type": "markdown",
   "id": "7a5652ea",
   "metadata": {},
   "source": [
    "# Tasks\n",
    "\n",
    "- Now import `math` library in your program (or workbook) by including the line `import math` at the top of your code. Calculate:-\n",
    "$$\n",
    "\\frac{\\sin(ax)}{x} \n",
    "$$\n",
    "$$\n",
    "\\sum_{i=1}^5 (a + bx)^i\n",
    "$$\n",
    "$$\n",
    "\\sqrt{\\left|\\sin\\left(e^{x^a}\\right)\\right|}\n",
    "$$\n",
    "where\n",
    "$$\n",
    "a = 1.17745, \\quad b=3, \\quad c=-1004.1, \\text{ and } x = 24.539~.\n",
    "$$\n",
    "The functions you will need are `math.sqrt`, `math.sin`, `math.cos`, `math.exp` and `math.pow`. Look them up if required. What happens to the result of the top expression if $x=0$?. "
   ]
  },
  {
   "cell_type": "markdown",
   "id": "885cc194-e0c8-44bf-97f4-0a920b9fae83",
   "metadata": {},
   "source": [
    "# Finding BUGs\n",
    "\n",
    "- it is very difficult to write code without coming across errors\n",
    "- main types of error you will come across:\n",
    "    - syntax errors (easiest to spot and fix)\n",
    "    - data errors (accessing the wrong value, or values out of range)\n",
    "    - logical errors (doing things in the wrong order)\n",
    "    - runtime errors (specific to when program is run, i.e. checking user input etc)\n",
    "- the IDE or notebook environment can help fix some errors -- but often you will need to run tests and check values line by line"
   ]
  },
  {
   "cell_type": "markdown",
   "id": "8b96436a",
   "metadata": {},
   "source": [
    "## Tasks\n",
    "\n",
    "- Fix the errors in the following code:\n",
    "~~~\n",
    "#!/usr/bin/env python3\n",
    "\"\"\" \n",
    "A program to calculate the area of a circle, with user input for the radius\n",
    "\"\"\"\n",
    "# libraries and methods\n",
    "import maths\n",
    "\n",
    "# declare variables and assign values\n",
    "radius = input()\n",
    "\n",
    "# do the calculations\n",
    "area = pi * radius * radius\n",
    "\n",
    "# output the results\n",
    "print(\"The area of a circle with radius 4 is {area}\")\n",
    "~~~"
   ]
  },
  {
   "cell_type": "markdown",
   "id": "623202e7",
   "metadata": {},
   "source": [
    "Copy/paste this code into a new file in an IDE. Immediately you will notice some hints something is wrong. Two of the lines will be highlighted:\n",
    "\n",
    "<img src=\"images/math60082-support-1-1.png\" alt=\"image\" width=\"25%\" height=\"auto\">\n",
    "\n",
    "with `maths` underlined, as well as `pi`\n",
    "\n",
    "<img src=\"images/math60082-support-1-2.png\" alt=\"image\" width=\"25%\" height=\"auto\">\n",
    "\n",
    "Running the code gives the following output in the console\n",
    "\n",
    "<img src=\"images/math60082-support-1-3.png\" alt=\"image\" width=\"25%\" height=\"auto\">\n",
    "\n",
    "so we can see that `maths` is not a module that can be found. Either you have spelt the name wrong for the module you want, or the required module is not installed. Python does not know which it is -- You have to work it out! In this case we miss spelled `math` module, and to access `pi` we need to write `math.pi`. The syntax of this program is now correct.\n"
   ]
  },
  {
   "cell_type": "markdown",
   "id": "aac4417b",
   "metadata": {},
   "source": [
    "However, fixing these problems isn't the end of the story. Running the code and inputting a value of `1` we get an output:\n",
    "\n",
    "<img src=\"images/math60082-support-1-4.png\" alt=\"image\" width=\"25%\" height=\"auto\">\n",
    "\n",
    "and we can see that there is a problem with data types. The radius of a circle is a number, so we need to tell python the input from the keyboard needs to be converted to a number.\n",
    "~~~\n",
    "radius = float(input())\n",
    "~~~\n",
    "Now our program runs, but is the output what we desire? It looks ok at a glance. After entering the number 1, I get:\n",
    "\n",
    "<img src=\"images/math60082-support-1-5.png\" alt=\"image\" width=\"25%\" height=\"auto\">\n",
    "\n",
    "so not what I was expecting. Fix the output print statement to\n",
    "~~~\n",
    "print(\"The area of a circle with radius \",radius,\" is \",area)\n",
    "~~~\n",
    "and finally we get the desired result\n",
    "\n",
    "<img src=\"images/math60082-support-1-6.png\" alt=\"image\" width=\"25%\" height=\"auto\">"
   ]
  },
  {
   "cell_type": "markdown",
   "id": "017bb88a",
   "metadata": {},
   "source": [
    "- See the broken code in the workbook, fix all the bugs in the code."
   ]
  },
  {
   "cell_type": "markdown",
   "id": "9cd79e07-a331-4558-9abc-582e132cb782",
   "metadata": {},
   "source": [
    "# Summary\n",
    "\n",
    "- What is a Program;\n",
    "- Syntax and Structure of a Program;\n",
    "- Data and Variables;\n",
    "\n",
    "Try out the examples on the lab workbook! [Click here to download.](https://github.com/ddenisov13/MATHS6000-python/blob/main/MATHS6000-coding-workbook-1.ipynb)\n"
   ]
  },
  {
   "cell_type": "markdown",
   "id": "2d6a1e68",
   "metadata": {},
   "source": []
  }
 ],
 "metadata": {
  "kernelspec": {
   "display_name": "base",
   "language": "python",
   "name": "python3"
  },
  "language_info": {
   "codemirror_mode": {
    "name": "ipython",
    "version": 3
   },
   "file_extension": ".py",
   "mimetype": "text/x-python",
   "name": "python",
   "nbconvert_exporter": "python",
   "pygments_lexer": "ipython3",
   "version": "3.13.5"
  }
 },
 "nbformat": 4,
 "nbformat_minor": 5
}
